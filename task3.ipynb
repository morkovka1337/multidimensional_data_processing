{
 "cells": [
  {
   "cell_type": "code",
   "execution_count": 25,
   "metadata": {},
   "outputs": [],
   "source": [
    "import pandas as pd\n",
    "import seaborn as sns\n",
    "import scipy.stats as st\n",
    "import scipy\n",
    "import numpy as np\n",
    "import matplotlib.pyplot as plt\n",
    "import urllib.request\n",
    "import os\n",
    "from scipy.optimize import fsolve\n",
    "import math\n",
    "import random\n",
    "\n",
    "pd.set_option('precision', 5)\n",
    "pd.set_option('display.float_format', lambda x: '%.5f' % x)\n"
   ]
  },
  {
   "cell_type": "code",
   "execution_count": 26,
   "metadata": {},
   "outputs": [
    {
     "data": {
      "text/html": [
       "<div>\n",
       "<style scoped>\n",
       "    .dataframe tbody tr th:only-of-type {\n",
       "        vertical-align: middle;\n",
       "    }\n",
       "\n",
       "    .dataframe tbody tr th {\n",
       "        vertical-align: top;\n",
       "    }\n",
       "\n",
       "    .dataframe thead th {\n",
       "        text-align: right;\n",
       "    }\n",
       "</style>\n",
       "<table border=\"1\" class=\"dataframe\">\n",
       "  <thead>\n",
       "    <tr style=\"text-align: right;\">\n",
       "      <th></th>\n",
       "      <th>Symbol</th>\n",
       "      <th>Name</th>\n",
       "      <th>Sector</th>\n",
       "      <th>Price</th>\n",
       "      <th>Price/Earnings</th>\n",
       "      <th>Dividend Yield</th>\n",
       "      <th>Earnings/Share</th>\n",
       "      <th>52 Week Low</th>\n",
       "      <th>52 Week High</th>\n",
       "      <th>Market Cap</th>\n",
       "      <th>EBITDA</th>\n",
       "      <th>Price/Sales</th>\n",
       "      <th>Price/Book</th>\n",
       "      <th>SEC Filings</th>\n",
       "    </tr>\n",
       "  </thead>\n",
       "  <tbody>\n",
       "    <tr>\n",
       "      <th>0</th>\n",
       "      <td>MMM</td>\n",
       "      <td>3M Company</td>\n",
       "      <td>Industrials</td>\n",
       "      <td>222.89000</td>\n",
       "      <td>24.31000</td>\n",
       "      <td>2.33286</td>\n",
       "      <td>7.92000</td>\n",
       "      <td>259.77000</td>\n",
       "      <td>175.49000</td>\n",
       "      <td>138721055226</td>\n",
       "      <td>9048000000.00000</td>\n",
       "      <td>4.39027</td>\n",
       "      <td>11.34000</td>\n",
       "      <td>http://www.sec.gov/cgi-bin/browse-edgar?action...</td>\n",
       "    </tr>\n",
       "    <tr>\n",
       "      <th>1</th>\n",
       "      <td>AOS</td>\n",
       "      <td>A.O. Smith Corp</td>\n",
       "      <td>Industrials</td>\n",
       "      <td>60.24000</td>\n",
       "      <td>27.76000</td>\n",
       "      <td>1.14796</td>\n",
       "      <td>1.70000</td>\n",
       "      <td>68.39000</td>\n",
       "      <td>48.92500</td>\n",
       "      <td>10783419933</td>\n",
       "      <td>601000000.00000</td>\n",
       "      <td>3.57548</td>\n",
       "      <td>6.35000</td>\n",
       "      <td>http://www.sec.gov/cgi-bin/browse-edgar?action...</td>\n",
       "    </tr>\n",
       "    <tr>\n",
       "      <th>2</th>\n",
       "      <td>ABT</td>\n",
       "      <td>Abbott Laboratories</td>\n",
       "      <td>Health Care</td>\n",
       "      <td>56.27000</td>\n",
       "      <td>22.51000</td>\n",
       "      <td>1.90898</td>\n",
       "      <td>0.26000</td>\n",
       "      <td>64.60000</td>\n",
       "      <td>42.28000</td>\n",
       "      <td>102121042306</td>\n",
       "      <td>5744000000.00000</td>\n",
       "      <td>3.74048</td>\n",
       "      <td>3.19000</td>\n",
       "      <td>http://www.sec.gov/cgi-bin/browse-edgar?action...</td>\n",
       "    </tr>\n",
       "    <tr>\n",
       "      <th>3</th>\n",
       "      <td>ABBV</td>\n",
       "      <td>AbbVie Inc.</td>\n",
       "      <td>Health Care</td>\n",
       "      <td>108.48000</td>\n",
       "      <td>19.41000</td>\n",
       "      <td>2.49956</td>\n",
       "      <td>3.29000</td>\n",
       "      <td>125.86000</td>\n",
       "      <td>60.05000</td>\n",
       "      <td>181386347059</td>\n",
       "      <td>10310000000.00000</td>\n",
       "      <td>6.29157</td>\n",
       "      <td>26.14000</td>\n",
       "      <td>http://www.sec.gov/cgi-bin/browse-edgar?action...</td>\n",
       "    </tr>\n",
       "    <tr>\n",
       "      <th>4</th>\n",
       "      <td>ACN</td>\n",
       "      <td>Accenture plc</td>\n",
       "      <td>Information Technology</td>\n",
       "      <td>150.51000</td>\n",
       "      <td>25.47000</td>\n",
       "      <td>1.71447</td>\n",
       "      <td>5.44000</td>\n",
       "      <td>162.60000</td>\n",
       "      <td>114.82000</td>\n",
       "      <td>98765855553</td>\n",
       "      <td>5643228000.00000</td>\n",
       "      <td>2.60412</td>\n",
       "      <td>10.62000</td>\n",
       "      <td>http://www.sec.gov/cgi-bin/browse-edgar?action...</td>\n",
       "    </tr>\n",
       "    <tr>\n",
       "      <th>...</th>\n",
       "      <td>...</td>\n",
       "      <td>...</td>\n",
       "      <td>...</td>\n",
       "      <td>...</td>\n",
       "      <td>...</td>\n",
       "      <td>...</td>\n",
       "      <td>...</td>\n",
       "      <td>...</td>\n",
       "      <td>...</td>\n",
       "      <td>...</td>\n",
       "      <td>...</td>\n",
       "      <td>...</td>\n",
       "      <td>...</td>\n",
       "      <td>...</td>\n",
       "    </tr>\n",
       "    <tr>\n",
       "      <th>500</th>\n",
       "      <td>XYL</td>\n",
       "      <td>Xylem Inc.</td>\n",
       "      <td>Industrials</td>\n",
       "      <td>70.24000</td>\n",
       "      <td>30.94000</td>\n",
       "      <td>1.17008</td>\n",
       "      <td>1.83000</td>\n",
       "      <td>76.81000</td>\n",
       "      <td>46.86000</td>\n",
       "      <td>12915021000</td>\n",
       "      <td>722000000.00000</td>\n",
       "      <td>2.72621</td>\n",
       "      <td>5.31000</td>\n",
       "      <td>http://www.sec.gov/cgi-bin/browse-edgar?action...</td>\n",
       "    </tr>\n",
       "    <tr>\n",
       "      <th>501</th>\n",
       "      <td>YUM</td>\n",
       "      <td>Yum! Brands Inc</td>\n",
       "      <td>Consumer Discretionary</td>\n",
       "      <td>76.30000</td>\n",
       "      <td>27.25000</td>\n",
       "      <td>1.79708</td>\n",
       "      <td>4.07000</td>\n",
       "      <td>86.93000</td>\n",
       "      <td>62.85000</td>\n",
       "      <td>27003303098</td>\n",
       "      <td>2289000000.00000</td>\n",
       "      <td>6.31364</td>\n",
       "      <td>212.08000</td>\n",
       "      <td>http://www.sec.gov/cgi-bin/browse-edgar?action...</td>\n",
       "    </tr>\n",
       "    <tr>\n",
       "      <th>502</th>\n",
       "      <td>ZBH</td>\n",
       "      <td>Zimmer Biomet Holdings</td>\n",
       "      <td>Health Care</td>\n",
       "      <td>115.53000</td>\n",
       "      <td>14.32000</td>\n",
       "      <td>0.79483</td>\n",
       "      <td>9.01000</td>\n",
       "      <td>133.49000</td>\n",
       "      <td>108.17000</td>\n",
       "      <td>24454698119</td>\n",
       "      <td>2007400000.00000</td>\n",
       "      <td>3.16490</td>\n",
       "      <td>2.39000</td>\n",
       "      <td>http://www.sec.gov/cgi-bin/browse-edgar?action...</td>\n",
       "    </tr>\n",
       "    <tr>\n",
       "      <th>503</th>\n",
       "      <td>ZION</td>\n",
       "      <td>Zions Bancorp</td>\n",
       "      <td>Financials</td>\n",
       "      <td>50.71000</td>\n",
       "      <td>17.73000</td>\n",
       "      <td>1.48093</td>\n",
       "      <td>2.60000</td>\n",
       "      <td>55.61000</td>\n",
       "      <td>38.43000</td>\n",
       "      <td>10670678640</td>\n",
       "      <td>0.00000</td>\n",
       "      <td>3.79458</td>\n",
       "      <td>1.42000</td>\n",
       "      <td>http://www.sec.gov/cgi-bin/browse-edgar?action...</td>\n",
       "    </tr>\n",
       "    <tr>\n",
       "      <th>504</th>\n",
       "      <td>ZTS</td>\n",
       "      <td>Zoetis</td>\n",
       "      <td>Health Care</td>\n",
       "      <td>71.51000</td>\n",
       "      <td>32.80000</td>\n",
       "      <td>0.68237</td>\n",
       "      <td>1.65000</td>\n",
       "      <td>80.13000</td>\n",
       "      <td>52.00000</td>\n",
       "      <td>35991109776</td>\n",
       "      <td>1734000000.00000</td>\n",
       "      <td>9.28090</td>\n",
       "      <td>18.09000</td>\n",
       "      <td>http://www.sec.gov/cgi-bin/browse-edgar?action...</td>\n",
       "    </tr>\n",
       "  </tbody>\n",
       "</table>\n",
       "<p>505 rows × 14 columns</p>\n",
       "</div>"
      ],
      "text/plain": [
       "    Symbol                    Name                  Sector     Price  \\\n",
       "0      MMM              3M Company             Industrials 222.89000   \n",
       "1      AOS         A.O. Smith Corp             Industrials  60.24000   \n",
       "2      ABT     Abbott Laboratories             Health Care  56.27000   \n",
       "3     ABBV             AbbVie Inc.             Health Care 108.48000   \n",
       "4      ACN           Accenture plc  Information Technology 150.51000   \n",
       "..     ...                     ...                     ...       ...   \n",
       "500    XYL              Xylem Inc.             Industrials  70.24000   \n",
       "501    YUM         Yum! Brands Inc  Consumer Discretionary  76.30000   \n",
       "502    ZBH  Zimmer Biomet Holdings             Health Care 115.53000   \n",
       "503   ZION           Zions Bancorp              Financials  50.71000   \n",
       "504    ZTS                  Zoetis             Health Care  71.51000   \n",
       "\n",
       "     Price/Earnings  Dividend Yield  Earnings/Share  52 Week Low  \\\n",
       "0          24.31000         2.33286         7.92000    259.77000   \n",
       "1          27.76000         1.14796         1.70000     68.39000   \n",
       "2          22.51000         1.90898         0.26000     64.60000   \n",
       "3          19.41000         2.49956         3.29000    125.86000   \n",
       "4          25.47000         1.71447         5.44000    162.60000   \n",
       "..              ...             ...             ...          ...   \n",
       "500        30.94000         1.17008         1.83000     76.81000   \n",
       "501        27.25000         1.79708         4.07000     86.93000   \n",
       "502        14.32000         0.79483         9.01000    133.49000   \n",
       "503        17.73000         1.48093         2.60000     55.61000   \n",
       "504        32.80000         0.68237         1.65000     80.13000   \n",
       "\n",
       "     52 Week High    Market Cap            EBITDA  Price/Sales  Price/Book  \\\n",
       "0       175.49000  138721055226  9048000000.00000      4.39027    11.34000   \n",
       "1        48.92500   10783419933   601000000.00000      3.57548     6.35000   \n",
       "2        42.28000  102121042306  5744000000.00000      3.74048     3.19000   \n",
       "3        60.05000  181386347059 10310000000.00000      6.29157    26.14000   \n",
       "4       114.82000   98765855553  5643228000.00000      2.60412    10.62000   \n",
       "..            ...           ...               ...          ...         ...   \n",
       "500      46.86000   12915021000   722000000.00000      2.72621     5.31000   \n",
       "501      62.85000   27003303098  2289000000.00000      6.31364   212.08000   \n",
       "502     108.17000   24454698119  2007400000.00000      3.16490     2.39000   \n",
       "503      38.43000   10670678640           0.00000      3.79458     1.42000   \n",
       "504      52.00000   35991109776  1734000000.00000      9.28090    18.09000   \n",
       "\n",
       "                                           SEC Filings  \n",
       "0    http://www.sec.gov/cgi-bin/browse-edgar?action...  \n",
       "1    http://www.sec.gov/cgi-bin/browse-edgar?action...  \n",
       "2    http://www.sec.gov/cgi-bin/browse-edgar?action...  \n",
       "3    http://www.sec.gov/cgi-bin/browse-edgar?action...  \n",
       "4    http://www.sec.gov/cgi-bin/browse-edgar?action...  \n",
       "..                                                 ...  \n",
       "500  http://www.sec.gov/cgi-bin/browse-edgar?action...  \n",
       "501  http://www.sec.gov/cgi-bin/browse-edgar?action...  \n",
       "502  http://www.sec.gov/cgi-bin/browse-edgar?action...  \n",
       "503  http://www.sec.gov/cgi-bin/browse-edgar?action...  \n",
       "504  http://www.sec.gov/cgi-bin/browse-edgar?action...  \n",
       "\n",
       "[505 rows x 14 columns]"
      ]
     },
     "execution_count": 26,
     "metadata": {},
     "output_type": "execute_result"
    }
   ],
   "source": [
    "if not os.path.exists('constituents-financials.csv'):\n",
    "    urllib.request.urlretrieve(\n",
    "        \"https://datahub.io/core/s-and-p-500-companies-financials/r/constituents-financials.csv\", \"constituents-financials.csv\")\n",
    "data = pd.read_csv('constituents-financials.csv')\n",
    "data\n"
   ]
  },
  {
   "cell_type": "markdown",
   "metadata": {},
   "source": [
    "# Approximating Price distribution using Inverse Transform"
   ]
  },
  {
   "cell_type": "code",
   "execution_count": 126,
   "metadata": {},
   "outputs": [
    {
     "name": "stdout",
     "output_type": "stream",
     "text": [
      "params from lab #1: mu 4.4376924074345245 sigma 0.7008615631875369\n",
      "Mode 51.75315915112879\n",
      "Target diff 0.40535607267990625\n",
      "guessed params: m=[4.43769241], s=[0.70086156]\n"
     ]
    },
    {
     "data": {
      "text/plain": [
       "<AxesSubplot:xlabel='Price', ylabel='Density'>"
      ]
     },
     "execution_count": 126,
     "metadata": {},
     "output_type": "execute_result"
    },
    {
     "data": {
      "image/png": "[encoded data removed]",
      "text/plain": [
       "<Figure size 432x288 with 1 Axes>"
      ]
     },
     "metadata": {
      "needs_background": "light"
     },
     "output_type": "display_data"
    }
   ],
   "source": [
    "# From lab #1 values for Price\n",
    "mu = 4.4376924074345245\n",
    "sigma = 0.7008615631875369\n",
    "print('params from lab #1: mu', mu, 'sigma', sigma)\n",
    "target_modal_value = math.exp(mu-sigma**2)\n",
    "print('Mode', target_modal_value)\n",
    "boundary_values = 1000, 100\n",
    "target_diff = st.lognorm.cdf(boundary_values[0], s=sigma, scale=math.exp(mu)) - st.lognorm.cdf(boundary_values[1], s=sigma, scale=math.exp(mu))\n",
    "print('Target diff', target_diff)\n",
    "# Define function to find roots of\n",
    "\n",
    "\n",
    "def equation(s):\n",
    "\n",
    "    # From Wikipedia: Mode = exp(m - s*s)\n",
    "    m = math.log(target_modal_value) + s**2\n",
    "\n",
    "    # Get probability mass from CDF at boundary_values[1] and boundary_values[0], should be equal to target_diff.\n",
    "    # Rearange equation so that =0, to find root (value of s)\n",
    "    return (st.lognorm.cdf(boundary_values[0], s=s, scale=math.exp(m)) - st.lognorm.cdf(boundary_values[1], s=s, scale=math.exp(m)) - target_diff)\n",
    "\n",
    "\n",
    "# Solve non-linear equation to find s\n",
    "s_initial_guess = 1\n",
    "s = fsolve(equation, s_initial_guess)\n",
    "\n",
    "# From s, find m\n",
    "m = math.log(target_modal_value) + s**2\n",
    "print('guessed params: m='+str(m)+', s='+str(s))  # (m,s))\n",
    "\n",
    "# Plot\n",
    "x = np.arange(0, max(data.Price), 1)\n",
    "y = st.lognorm.pdf(x, s=s, scale=math.exp(m))\n",
    "fig, ax = plt.subplots()\n",
    "ax.plot(x, y, 'r-', lw=5, alpha=0.6, label='norm pdf')\n",
    "plt.plot((boundary_values[1], boundary_values[1]), (0, 1), 'k--')\n",
    "plt.plot((target_modal_value, target_modal_value), (0, 1), 'k-.')\n",
    "plt.plot((boundary_values[0], boundary_values[0]), (0, 1), 'k--')\n",
    "plt.ylim(0, 0.014)\n",
    "sns.histplot(data.Price, kde=False, bins=40, stat='density', label=f'Average price in dollars')"
   ]
  },
  {
   "cell_type": "markdown",
   "metadata": {},
   "source": [
    "# Approximating Price using Accept-Reject sampling"
   ]
  },
  {
   "cell_type": "code",
   "execution_count": 115,
   "metadata": {},
   "outputs": [
    {
     "name": "stderr",
     "output_type": "stream",
     "text": [
      "C:\\Users\\morko\\AppData\\Local\\Temp/ipykernel_12384/997392838.py:3: RuntimeWarning: divide by zero encountered in log\n",
      "  exp = np.exp(-(np.log(x) - mu_)**2 / (2 * sigma_ ** 2))\n",
      "C:\\Users\\morko\\AppData\\Local\\Temp/ipykernel_12384/997392838.py:5: RuntimeWarning: invalid value encountered in double_scalars\n",
      "  return exp / frac\n"
     ]
    },
    {
     "data": {
      "text/plain": [
       "Text(0.5, 1.0, 'M=3')"
      ]
     },
     "execution_count": 115,
     "metadata": {},
     "output_type": "execute_result"
    },
    {
     "data": {
      "image/png": "[encoded data removed]",
      "text/plain": [
       "<Figure size 720x288 with 1 Axes>"
      ]
     },
     "metadata": {
      "needs_background": "light"
     },
     "output_type": "display_data"
    }
   ],
   "source": [
    "# lognormal PDF\n",
    "def lognorm_pdf(x, mu_, sigma_):\n",
    "    exp = np.exp(-(np.log(x) - mu_)**2 / (2 * sigma_ ** 2))\n",
    "    frac = (x * sigma_ * (2 * np.pi) ** 0.5)\n",
    "    return exp / frac\n",
    "\n",
    "# normal PDF\n",
    "\n",
    "\n",
    "def g(x, mu_, sigma_):\n",
    "    return 1/np.sqrt(2*np.pi)/sigma_ * np.exp(-0.5*((x-mu_)/sigma_)**2)\n",
    "\n",
    "upper_params = 60, 120\n",
    "\n",
    "M = 3\n",
    "x_vals = np.arange(0, 1700, 10)\n",
    "f_vals = [lognorm_pdf(x, mu, sigma) for x in x_vals]\n",
    "g_vals = g(x_vals, *upper_params)\n",
    "plt.figure(figsize=(10, 4))\n",
    "plt.plot(x_vals, f_vals)\n",
    "plt.plot(x_vals, M*g_vals)\n",
    "plt.xlabel('x', fontsize=20)\n",
    "plt.ylabel('Density', fontsize=20)\n",
    "plt.legend(['t(x)', 'S*h(x)'], fontsize=20)\n",
    "\n",
    "plt.title(\"M=%s\" % M, fontsize=20)\n"
   ]
  },
  {
   "cell_type": "code",
   "execution_count": 116,
   "metadata": {},
   "outputs": [
    {
     "name": "stderr",
     "output_type": "stream",
     "text": [
      "C:\\Users\\morko\\AppData\\Local\\Temp/ipykernel_12384/997392838.py:3: RuntimeWarning: invalid value encountered in log\n",
      "  exp = np.exp(-(np.log(x) - mu_)**2 / (2 * sigma_ ** 2))\n"
     ]
    },
    {
     "name": "stdout",
     "output_type": "stream",
     "text": [
      "Num Samples Collected: 33126\n",
      "Efficiency: 0.331\n"
     ]
    },
    {
     "data": {
      "image/png": "[encoded data removed]",
      "text/plain": [
       "<Figure size 720x288 with 1 Axes>"
      ]
     },
     "metadata": {
      "needs_background": "light"
     },
     "output_type": "display_data"
    }
   ],
   "source": [
    "# collect all accepted samples here\n",
    "samples = []\n",
    "\n",
    "# try this many candidates\n",
    "N = 100000\n",
    "\n",
    "for _ in range(N):\n",
    "    # sample a candidate\n",
    "    candidate = np.random.normal(*upper_params)\n",
    "\n",
    "    # calculate probability of accepting this candidate\n",
    "    prob_accept = lognorm_pdf(candidate, mu, sigma) / (M*g(candidate, *upper_params))\n",
    "\n",
    "    # accept with the calculated probability\n",
    "    if np.random.random() < prob_accept:\n",
    "        samples.append(candidate)\n",
    "\n",
    "plt.figure(figsize=(10, 4))\n",
    "plt.hist(samples, bins=200, density=True)\n",
    "plt.xlabel('x', fontsize=20)\n",
    "plt.xlabel('Density', fontsize=20)\n",
    "plt.plot(x_vals, [f for f in f_vals], linewidth=2)\n",
    "# plt.ylim(0, 0.015)\n",
    "print(\"Num Samples Collected: %s\"%len(samples))\n",
    "print(\"Efficiency: %s\"%round(len(samples) / N, 3))\n",
    "# .title('Empirical Exp. Value: %s\\nTrue Exp. Value: %s'%(round(np.mean(samples), 2), round(np.mean(TRUE_EXP), 2)), fontsize=20)\n"
   ]
  },
  {
   "cell_type": "markdown",
   "metadata": {},
   "source": [
    "# Approximating Dividend Yield distribution using Inverse Transform"
   ]
  },
  {
   "cell_type": "code",
   "execution_count": 134,
   "metadata": {},
   "outputs": [
    {
     "name": "stdout",
     "output_type": "stream",
     "text": [
      "params from lab #1: mu 0.7423118497542172 sigma 0.6016495934841037\n",
      "Mode 1.4627666618828938\n",
      "Target diff 0.35879631961105746\n",
      "guessed params: m=[0.74231185], s=[0.60164959]\n"
     ]
    },
    {
     "data": {
      "text/plain": [
       "<AxesSubplot:xlabel='Dividend Yield', ylabel='Density'>"
      ]
     },
     "execution_count": 134,
     "metadata": {},
     "output_type": "execute_result"
    },
    {
     "data": {
      "image/png": "[encoded data removed]",
      "text/plain": [
       "<Figure size 432x288 with 1 Axes>"
      ]
     },
     "metadata": {
      "needs_background": "light"
     },
     "output_type": "display_data"
    }
   ],
   "source": [
    "# From lab #1 values for Div Yield\n",
    "mu = 0.7423118497542172\n",
    "sigma = 0.6016495934841037\n",
    "# apply the same filtering as in lab 1\n",
    "div_yield = data['Dividend Yield']\n",
    "div_yield = div_yield[div_yield.between(div_yield.quantile(0.2), div_yield.quantile(.99))].reset_index(drop=True)\n",
    "print('params from lab #1: mu', mu, 'sigma', sigma)\n",
    "target_modal_value = math.exp(mu-sigma**2)\n",
    "print('Mode', target_modal_value)\n",
    "boundary_values = 2, 1\n",
    "target_diff = st.lognorm.cdf(boundary_values[0], s=sigma, scale=math.exp(mu)) - st.lognorm.cdf(boundary_values[1], s=sigma, scale=math.exp(mu))\n",
    "print('Target diff', target_diff)\n",
    "# Define function to find roots of\n",
    "\n",
    "\n",
    "def equation(s):\n",
    "\n",
    "    # From Wikipedia: Mode = exp(m - s*s)\n",
    "    m = math.log(target_modal_value) + s**2\n",
    "\n",
    "    # Get probability mass from CDF at boundary_values[1] and boundary_values[0], should be equal to target_diff.\n",
    "    # Rearange equation so that =0, to find root (value of s)\n",
    "    return (st.lognorm.cdf(boundary_values[0], s=s, scale=math.exp(m)) - st.lognorm.cdf(boundary_values[1], s=s, scale=math.exp(m)) - target_diff)\n",
    "\n",
    "\n",
    "# Solve non-linear equation to find s\n",
    "s_initial_guess = 1\n",
    "s = fsolve(equation, s_initial_guess)\n",
    "\n",
    "# From s, find m\n",
    "m = math.log(target_modal_value) + s**2\n",
    "print('guessed params: m='+str(m)+', s='+str(s))  # (m,s))\n",
    "\n",
    "# Plot\n",
    "x = np.arange(0, max(div_yield), 1e-4)\n",
    "y = st.lognorm.pdf(x, s=s, scale=math.exp(m))\n",
    "fig, ax = plt.subplots()\n",
    "ax.plot(x, y, 'r-', lw=5, alpha=0.6, label='norm pdf')\n",
    "plt.plot((boundary_values[1], boundary_values[1]), (0, 1), 'k--')\n",
    "plt.plot((target_modal_value, target_modal_value), (0, 1), 'k-.')\n",
    "plt.plot((boundary_values[0], boundary_values[0]), (0, 1), 'k--')\n",
    "\n",
    "sns.histplot(div_yield, kde=False, bins=40, stat='density', label=f'Dividend Yield')"
   ]
  },
  {
   "cell_type": "markdown",
   "metadata": {},
   "source": [
    "# Approximating Dividend Yield using Accept-Reject sampling"
   ]
  },
  {
   "cell_type": "code",
   "execution_count": 165,
   "metadata": {},
   "outputs": [
    {
     "name": "stderr",
     "output_type": "stream",
     "text": [
      "C:\\Users\\morko\\AppData\\Local\\Temp/ipykernel_12384/4216565273.py:5: RuntimeWarning: divide by zero encountered in log\n",
      "  exp = np.exp(-(np.log(x) - mu)**2 / (2 * sigma ** 2))\n",
      "C:\\Users\\morko\\AppData\\Local\\Temp/ipykernel_12384/4216565273.py:7: RuntimeWarning: invalid value encountered in double_scalars\n",
      "  return exp / frac\n"
     ]
    },
    {
     "data": {
      "text/plain": [
       "Text(0.5, 1.0, 'M=2')"
      ]
     },
     "execution_count": 165,
     "metadata": {},
     "output_type": "execute_result"
    },
    {
     "data": {
      "image/png": "[encoded data removed]",
      "text/plain": [
       "<Figure size 720x288 with 1 Axes>"
      ]
     },
     "metadata": {
      "needs_background": "light"
     },
     "output_type": "display_data"
    }
   ],
   "source": [
    "mu = 0.7423118497542172\n",
    "sigma = 0.6016495934841037\n",
    "# lognormal PDF\n",
    "def lognorm_pdf(x, mu, sigma):\n",
    "    exp = np.exp(-(np.log(x) - mu)**2 / (2 * sigma ** 2))\n",
    "    frac = (x * sigma * (2 * np.pi) ** 0.5)\n",
    "    return exp / frac\n",
    "\n",
    "# normal PDF\n",
    "\n",
    "\n",
    "def g(x, mu, sigma):\n",
    "    return 1/np.sqrt(2*np.pi)/sigma * np.exp(-0.5*((x-mu)/sigma)**2)\n",
    "\n",
    "upper_params = 1.5, 1.9\n",
    "M = 2\n",
    "x_vals = np.arange(0, 6, 1e-4)\n",
    "f_vals = [lognorm_pdf(x, mu, sigma) for x in x_vals]\n",
    "g_vals = g(x_vals, *upper_params)\n",
    "plt.figure(figsize=(10, 4))\n",
    "plt.plot(x_vals, f_vals)\n",
    "plt.plot(x_vals, M*g_vals)\n",
    "plt.xlabel('x', fontsize=20)\n",
    "plt.ylabel('Density', fontsize=20)\n",
    "plt.legend(['t(x)', 'S*h(x)'], fontsize=20)\n",
    "\n",
    "plt.title(\"M=%s\" % M, fontsize=20)\n"
   ]
  },
  {
   "cell_type": "code",
   "execution_count": 167,
   "metadata": {},
   "outputs": [
    {
     "name": "stderr",
     "output_type": "stream",
     "text": [
      "C:\\Users\\morko\\AppData\\Local\\Temp/ipykernel_12384/4216565273.py:5: RuntimeWarning: invalid value encountered in log\n",
      "  exp = np.exp(-(np.log(x) - mu)**2 / (2 * sigma ** 2))\n"
     ]
    },
    {
     "name": "stdout",
     "output_type": "stream",
     "text": [
      "Num Samples Collected: 48719\n",
      "Efficiency: 0.487\n"
     ]
    },
    {
     "data": {
      "image/png": "[encoded data removed]",
      "text/plain": [
       "<Figure size 720x288 with 1 Axes>"
      ]
     },
     "metadata": {
      "needs_background": "light"
     },
     "output_type": "display_data"
    }
   ],
   "source": [
    "# collect all accepted samples here\n",
    "samples = []\n",
    "\n",
    "# try this many candidates\n",
    "N = 100000\n",
    "\n",
    "for _ in range(N):\n",
    "    # sample a candidate\n",
    "    candidate = np.random.normal(*upper_params)\n",
    "\n",
    "    # calculate probability of accepting this candidate\n",
    "    prob_accept = lognorm_pdf(candidate, mu, sigma) / (M*g(candidate, *upper_params))\n",
    "\n",
    "    # accept with the calculated probability\n",
    "    if np.random.random() < prob_accept:\n",
    "        samples.append(candidate)\n",
    "\n",
    "plt.figure(figsize=(10, 4))\n",
    "plt.hist(samples, bins=200, density=True)\n",
    "plt.xlabel('x', fontsize=20)\n",
    "plt.xlabel('Density', fontsize=20)\n",
    "plt.plot(x_vals, [f for f in f_vals], linewidth=2)\n",
    "# plt.ylim(0, 0.015)\n",
    "print(\"Num Samples Collected: %s\"%len(samples))\n",
    "print(\"Efficiency: %s\"%round(len(samples) / N, 3))\n",
    "# .title('Empirical Exp. Value: %s\\nTrue Exp. Value: %s'%(round(np.mean(samples), 2), round(np.mean(TRUE_EXP), 2)), fontsize=20)\n"
   ]
  },
  {
   "cell_type": "markdown",
   "metadata": {},
   "source": [
    "# Estimating correlations between targets and predictors"
   ]
  },
  {
   "cell_type": "code",
   "execution_count": 168,
   "metadata": {},
   "outputs": [
    {
     "data": {
      "text/html": [
       "<div>\n",
       "<style scoped>\n",
       "    .dataframe tbody tr th:only-of-type {\n",
       "        vertical-align: middle;\n",
       "    }\n",
       "\n",
       "    .dataframe tbody tr th {\n",
       "        vertical-align: top;\n",
       "    }\n",
       "\n",
       "    .dataframe thead th {\n",
       "        text-align: right;\n",
       "    }\n",
       "</style>\n",
       "<table border=\"1\" class=\"dataframe\">\n",
       "  <thead>\n",
       "    <tr style=\"text-align: right;\">\n",
       "      <th></th>\n",
       "      <th>Price</th>\n",
       "      <th>Price/Earnings</th>\n",
       "      <th>Dividend Yield</th>\n",
       "      <th>Earnings/Share</th>\n",
       "      <th>52 Week Low</th>\n",
       "      <th>52 Week High</th>\n",
       "      <th>Market Cap</th>\n",
       "      <th>EBITDA</th>\n",
       "      <th>Price/Sales</th>\n",
       "      <th>Price/Book</th>\n",
       "    </tr>\n",
       "  </thead>\n",
       "  <tbody>\n",
       "    <tr>\n",
       "      <th>Price</th>\n",
       "      <td>1.00000</td>\n",
       "      <td>0.19476</td>\n",
       "      <td>-0.24463</td>\n",
       "      <td>0.59106</td>\n",
       "      <td>0.99508</td>\n",
       "      <td>0.98279</td>\n",
       "      <td>0.40647</td>\n",
       "      <td>0.18032</td>\n",
       "      <td>0.18162</td>\n",
       "      <td>0.02364</td>\n",
       "    </tr>\n",
       "    <tr>\n",
       "      <th>Price/Earnings</th>\n",
       "      <td>0.19476</td>\n",
       "      <td>1.00000</td>\n",
       "      <td>-0.18133</td>\n",
       "      <td>0.00457</td>\n",
       "      <td>0.18536</td>\n",
       "      <td>0.14470</td>\n",
       "      <td>0.13138</td>\n",
       "      <td>0.00295</td>\n",
       "      <td>0.18856</td>\n",
       "      <td>0.00037</td>\n",
       "    </tr>\n",
       "    <tr>\n",
       "      <th>Dividend Yield</th>\n",
       "      <td>-0.24463</td>\n",
       "      <td>-0.18133</td>\n",
       "      <td>1.00000</td>\n",
       "      <td>-0.07724</td>\n",
       "      <td>-0.24443</td>\n",
       "      <td>-0.20795</td>\n",
       "      <td>-0.02179</td>\n",
       "      <td>0.12613</td>\n",
       "      <td>-0.07772</td>\n",
       "      <td>0.08937</td>\n",
       "    </tr>\n",
       "    <tr>\n",
       "      <th>Earnings/Share</th>\n",
       "      <td>0.59106</td>\n",
       "      <td>0.00457</td>\n",
       "      <td>-0.07724</td>\n",
       "      <td>1.00000</td>\n",
       "      <td>0.58859</td>\n",
       "      <td>0.60489</td>\n",
       "      <td>0.19406</td>\n",
       "      <td>0.18058</td>\n",
       "      <td>-0.03618</td>\n",
       "      <td>0.03225</td>\n",
       "    </tr>\n",
       "    <tr>\n",
       "      <th>52 Week Low</th>\n",
       "      <td>0.99508</td>\n",
       "      <td>0.18536</td>\n",
       "      <td>-0.24443</td>\n",
       "      <td>0.58859</td>\n",
       "      <td>1.00000</td>\n",
       "      <td>0.98485</td>\n",
       "      <td>0.39850</td>\n",
       "      <td>0.17628</td>\n",
       "      <td>0.18882</td>\n",
       "      <td>0.02332</td>\n",
       "    </tr>\n",
       "    <tr>\n",
       "      <th>52 Week High</th>\n",
       "      <td>0.98279</td>\n",
       "      <td>0.14470</td>\n",
       "      <td>-0.20795</td>\n",
       "      <td>0.60489</td>\n",
       "      <td>0.98485</td>\n",
       "      <td>1.00000</td>\n",
       "      <td>0.37559</td>\n",
       "      <td>0.17967</td>\n",
       "      <td>0.17372</td>\n",
       "      <td>0.01779</td>\n",
       "    </tr>\n",
       "    <tr>\n",
       "      <th>Market Cap</th>\n",
       "      <td>0.40647</td>\n",
       "      <td>0.13138</td>\n",
       "      <td>-0.02179</td>\n",
       "      <td>0.19406</td>\n",
       "      <td>0.39850</td>\n",
       "      <td>0.37559</td>\n",
       "      <td>1.00000</td>\n",
       "      <td>0.77134</td>\n",
       "      <td>0.09525</td>\n",
       "      <td>0.03441</td>\n",
       "    </tr>\n",
       "    <tr>\n",
       "      <th>EBITDA</th>\n",
       "      <td>0.18032</td>\n",
       "      <td>0.00295</td>\n",
       "      <td>0.12613</td>\n",
       "      <td>0.18058</td>\n",
       "      <td>0.17628</td>\n",
       "      <td>0.17967</td>\n",
       "      <td>0.77134</td>\n",
       "      <td>1.00000</td>\n",
       "      <td>-0.03717</td>\n",
       "      <td>0.03555</td>\n",
       "    </tr>\n",
       "    <tr>\n",
       "      <th>Price/Sales</th>\n",
       "      <td>0.18162</td>\n",
       "      <td>0.18856</td>\n",
       "      <td>-0.07772</td>\n",
       "      <td>-0.03618</td>\n",
       "      <td>0.18882</td>\n",
       "      <td>0.17372</td>\n",
       "      <td>0.09525</td>\n",
       "      <td>-0.03717</td>\n",
       "      <td>1.00000</td>\n",
       "      <td>0.01234</td>\n",
       "    </tr>\n",
       "    <tr>\n",
       "      <th>Price/Book</th>\n",
       "      <td>0.02364</td>\n",
       "      <td>0.00037</td>\n",
       "      <td>0.08937</td>\n",
       "      <td>0.03225</td>\n",
       "      <td>0.02332</td>\n",
       "      <td>0.01779</td>\n",
       "      <td>0.03441</td>\n",
       "      <td>0.03555</td>\n",
       "      <td>0.01234</td>\n",
       "      <td>1.00000</td>\n",
       "    </tr>\n",
       "  </tbody>\n",
       "</table>\n",
       "</div>"
      ],
      "text/plain": [
       "                  Price  Price/Earnings  Dividend Yield  Earnings/Share  \\\n",
       "Price           1.00000         0.19476        -0.24463         0.59106   \n",
       "Price/Earnings  0.19476         1.00000        -0.18133         0.00457   \n",
       "Dividend Yield -0.24463        -0.18133         1.00000        -0.07724   \n",
       "Earnings/Share  0.59106         0.00457        -0.07724         1.00000   \n",
       "52 Week Low     0.99508         0.18536        -0.24443         0.58859   \n",
       "52 Week High    0.98279         0.14470        -0.20795         0.60489   \n",
       "Market Cap      0.40647         0.13138        -0.02179         0.19406   \n",
       "EBITDA          0.18032         0.00295         0.12613         0.18058   \n",
       "Price/Sales     0.18162         0.18856        -0.07772        -0.03618   \n",
       "Price/Book      0.02364         0.00037         0.08937         0.03225   \n",
       "\n",
       "                52 Week Low  52 Week High  Market Cap   EBITDA  Price/Sales  \\\n",
       "Price               0.99508       0.98279     0.40647  0.18032      0.18162   \n",
       "Price/Earnings      0.18536       0.14470     0.13138  0.00295      0.18856   \n",
       "Dividend Yield     -0.24443      -0.20795    -0.02179  0.12613     -0.07772   \n",
       "Earnings/Share      0.58859       0.60489     0.19406  0.18058     -0.03618   \n",
       "52 Week Low         1.00000       0.98485     0.39850  0.17628      0.18882   \n",
       "52 Week High        0.98485       1.00000     0.37559  0.17967      0.17372   \n",
       "Market Cap          0.39850       0.37559     1.00000  0.77134      0.09525   \n",
       "EBITDA              0.17628       0.17967     0.77134  1.00000     -0.03717   \n",
       "Price/Sales         0.18882       0.17372     0.09525 -0.03717      1.00000   \n",
       "Price/Book          0.02332       0.01779     0.03441  0.03555      0.01234   \n",
       "\n",
       "                Price/Book  \n",
       "Price              0.02364  \n",
       "Price/Earnings     0.00037  \n",
       "Dividend Yield     0.08937  \n",
       "Earnings/Share     0.03225  \n",
       "52 Week Low        0.02332  \n",
       "52 Week High       0.01779  \n",
       "Market Cap         0.03441  \n",
       "EBITDA             0.03555  \n",
       "Price/Sales        0.01234  \n",
       "Price/Book         1.00000  "
      ]
     },
     "execution_count": 168,
     "metadata": {},
     "output_type": "execute_result"
    }
   ],
   "source": [
    "data.corr()"
   ]
  },
  {
   "cell_type": "markdown",
   "metadata": {},
   "source": [
    "# Bayes network"
   ]
  },
  {
   "cell_type": "code",
   "execution_count": 174,
   "metadata": {},
   "outputs": [
    {
     "ename": "ModuleNotFoundError",
     "evalue": "No module named 'bayesian.structure_score'",
     "output_type": "error",
     "traceback": [
      "\u001b[1;31m---------------------------------------------------------------------------\u001b[0m",
      "\u001b[1;31mModuleNotFoundError\u001b[0m                       Traceback (most recent call last)",
      "\u001b[1;32m~\\AppData\\Local\\Temp/ipykernel_12384/2599648663.py\u001b[0m in \u001b[0;36m<module>\u001b[1;34m\u001b[0m\n\u001b[1;32m----> 1\u001b[1;33m \u001b[1;32mfrom\u001b[0m \u001b[0mBAMT\u001b[0m\u001b[1;33m.\u001b[0m\u001b[0mbayesian\u001b[0m\u001b[1;33m.\u001b[0m\u001b[0mtrain_bn\u001b[0m \u001b[1;32mimport\u001b[0m \u001b[0mstructure_learning\u001b[0m\u001b[1;33m,\u001b[0m \u001b[0mparameter_learning\u001b[0m\u001b[1;33m\u001b[0m\u001b[1;33m\u001b[0m\u001b[0m\n\u001b[0m\u001b[0;32m      2\u001b[0m \u001b[1;32mfrom\u001b[0m \u001b[0mBAMT\u001b[0m\u001b[1;33m.\u001b[0m\u001b[0mpreprocess\u001b[0m\u001b[1;33m.\u001b[0m\u001b[0mdiscretization\u001b[0m \u001b[1;32mimport\u001b[0m \u001b[0mget_nodes_type\u001b[0m\u001b[1;33m,\u001b[0m \u001b[0mdiscretization\u001b[0m\u001b[1;33m,\u001b[0m \u001b[0mcode_categories\u001b[0m\u001b[1;33m,\u001b[0m \u001b[0mget_nodes_sign\u001b[0m\u001b[1;33m\u001b[0m\u001b[1;33m\u001b[0m\u001b[0m\n\u001b[0;32m      3\u001b[0m \u001b[1;32mfrom\u001b[0m \u001b[0mBAMT\u001b[0m\u001b[1;33m.\u001b[0m\u001b[0mbayesian\u001b[0m\u001b[1;33m.\u001b[0m\u001b[0msave_bn\u001b[0m \u001b[1;32mimport\u001b[0m \u001b[0msave_structure\u001b[0m\u001b[1;33m,\u001b[0m \u001b[0msave_params\u001b[0m\u001b[1;33m,\u001b[0m \u001b[0mread_structure\u001b[0m\u001b[1;33m,\u001b[0m \u001b[0mread_params\u001b[0m\u001b[1;33m\u001b[0m\u001b[1;33m\u001b[0m\u001b[0m\n\u001b[0;32m      4\u001b[0m \u001b[1;32mfrom\u001b[0m \u001b[0mBAMT\u001b[0m\u001b[1;33m.\u001b[0m\u001b[0mbayesian\u001b[0m\u001b[1;33m.\u001b[0m\u001b[0msampling\u001b[0m \u001b[1;32mimport\u001b[0m \u001b[0mgenerate_synthetics\u001b[0m\u001b[1;33m\u001b[0m\u001b[1;33m\u001b[0m\u001b[0m\n\u001b[0;32m      5\u001b[0m \u001b[1;32mfrom\u001b[0m \u001b[0mBAMT\u001b[0m\u001b[1;33m.\u001b[0m\u001b[0mexternal\u001b[0m\u001b[1;33m.\u001b[0m\u001b[0mlibpgm\u001b[0m\u001b[1;33m.\u001b[0m\u001b[0mhybayesiannetwork\u001b[0m \u001b[1;32mimport\u001b[0m \u001b[0mHyBayesianNetwork\u001b[0m\u001b[1;33m\u001b[0m\u001b[1;33m\u001b[0m\u001b[0m\n",
      "\u001b[1;32mg:\\Programming\\multidimensional_data_processing\\BAMT\\bayesian\\train_bn.py\u001b[0m in \u001b[0;36m<module>\u001b[1;34m\u001b[0m\n\u001b[0;32m      9\u001b[0m \u001b[1;32mfrom\u001b[0m \u001b[0mpomegranate\u001b[0m \u001b[1;32mimport\u001b[0m \u001b[0mDiscreteDistribution\u001b[0m\u001b[1;33m,\u001b[0m \u001b[0mConditionalProbabilityTable\u001b[0m\u001b[1;33m\u001b[0m\u001b[1;33m\u001b[0m\u001b[0m\n\u001b[0;32m     10\u001b[0m \u001b[1;32mfrom\u001b[0m \u001b[0msklearn\u001b[0m \u001b[1;32mimport\u001b[0m \u001b[0mlinear_model\u001b[0m\u001b[1;33m\u001b[0m\u001b[1;33m\u001b[0m\u001b[0m\n\u001b[1;32m---> 11\u001b[1;33m \u001b[1;32mfrom\u001b[0m \u001b[0mbayesian\u001b[0m\u001b[1;33m.\u001b[0m\u001b[0mstructure_score\u001b[0m \u001b[1;32mimport\u001b[0m \u001b[0mMIG\u001b[0m\u001b[1;33m,\u001b[0m \u001b[0mLLG\u001b[0m\u001b[1;33m,\u001b[0m \u001b[0mBICG\u001b[0m\u001b[1;33m,\u001b[0m \u001b[0mAICG\u001b[0m\u001b[1;33m\u001b[0m\u001b[1;33m\u001b[0m\u001b[0m\n\u001b[0m\u001b[0;32m     12\u001b[0m \u001b[1;32mfrom\u001b[0m \u001b[0msklearn\u001b[0m\u001b[1;33m.\u001b[0m\u001b[0mmixture\u001b[0m \u001b[1;32mimport\u001b[0m \u001b[0mGaussianMixture\u001b[0m\u001b[1;33m\u001b[0m\u001b[1;33m\u001b[0m\u001b[0m\n\u001b[0;32m     13\u001b[0m \u001b[1;32mfrom\u001b[0m \u001b[0mbayesian\u001b[0m\u001b[1;33m.\u001b[0m\u001b[0mredef_HC\u001b[0m \u001b[1;32mimport\u001b[0m \u001b[0mhc\u001b[0m \u001b[1;32mas\u001b[0m \u001b[0mhc_method\u001b[0m\u001b[1;33m\u001b[0m\u001b[1;33m\u001b[0m\u001b[0m\n",
      "\u001b[1;31mModuleNotFoundError\u001b[0m: No module named 'bayesian.structure_score'"
     ]
    }
   ],
   "source": [
    "\n",
    "from BAMT.bayesian.train_bn import structure_learning, parameter_learning\n",
    "from BAMT.preprocess.discretization import get_nodes_type, discretization, code_categories, get_nodes_sign\n",
    "from BAMT.bayesian.save_bn import save_structure, save_params, read_structure, read_params\n",
    "from BAMT.bayesian.sampling import generate_synthetics\n",
    "from BAMT.external.libpgm.hybayesiannetwork import HyBayesianNetwork\n",
    "from BAMT.visualization.visualization import draw_BN\n",
    "\n",
    "# Price\tPrice/Earnings\tDividend Yield\tEarnings/Share\t52 Week Low\t52 Week High\tMarket Cap\tEBITDA\tPrice/Sales\tPrice/Book\n",
    "data.dropna(inplace=True)\n",
    "data.reset_index(inplace=True, drop=True)\n",
    "nodes_type = get_nodes_type(data)\n",
    "nodes_type\n",
    "nodes_sign = get_nodes_sign(data)\n",
    "nodes_sign\n",
    "coded_data, coder = code_categories(data, 'label', ['Sector'])\n",
    "discrete_data, coder = discretization(coded_data, 'equal_frequency',\n",
    "                                      ['Price',\t'Price/Earnings', 'Dividend Yield',\t'Earnings/Share',\n",
    "                                       '52 Week Low',\t'52 Week High',\t'Market Cap',\t'EBITDA',\n",
    "                                       'Price/Sales',\t'Price/Book'])\n",
    "bn = structure_learning(discrete_data, 'HC', nodes_type, 'K2')\n",
    "bn\n",
    "draw_BN(bn, nodes_type, 'geo_bn')\n"
   ]
  }
 ],
 "metadata": {
  "interpreter": {
   "hash": "17de9118894e9f5bba839a74e4a65c551d43debea50fecb94295efa24ae04965"
  },
  "kernelspec": {
   "display_name": "Python 3.9.9 64-bit (windows store)",
   "language": "python",
   "name": "python3"
  },
  "language_info": {
   "codemirror_mode": {
    "name": "ipython",
    "version": 3
   },
   "file_extension": ".py",
   "mimetype": "text/x-python",
   "name": "python",
   "nbconvert_exporter": "python",
   "pygments_lexer": "ipython3",
   "version": "3.9.9"
  },
  "orig_nbformat": 4
 },
 "nbformat": 4,
 "nbformat_minor": 2
}
